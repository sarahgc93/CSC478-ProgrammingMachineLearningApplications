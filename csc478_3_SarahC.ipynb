{
 "cells": [
  {
   "cell_type": "markdown",
   "metadata": {},
   "source": [
    "## CSC 478 Assignment 3\n",
    "### Sarah Cummings\n",
    "\n",
    "### Question 1: Linear Regression with Communities Dataset\n",
    "##### A) Load and preprocess the data using Pandas or Numpy, or sklearn. Seperate the target attribute."
   ]
  },
  {
   "cell_type": "code",
   "execution_count": 1,
   "metadata": {
    "collapsed": false
   },
   "outputs": [],
   "source": [
    "import numpy as np\n",
    "import pandas as pd\n",
    "import sys\n",
    "import matplotlib.pyplot as plt\n",
    "%matplotlib inline\n",
    "import operator\n",
    "#from sklearn.cross_validation import KFold\n",
    "from sklearn.linear_model import LinearRegression, Lasso, Ridge, ElasticNet, SGDRegressor"
   ]
  },
  {
   "cell_type": "code",
   "execution_count": 3,
   "metadata": {
    "collapsed": false
   },
   "outputs": [
    {
     "data": {
      "text/html": [
       "<div>\n",
       "<table border=\"1\" class=\"dataframe\">\n",
       "  <thead>\n",
       "    <tr style=\"text-align: right;\">\n",
       "      <th></th>\n",
       "      <th>state</th>\n",
       "      <th>communityname</th>\n",
       "      <th>population</th>\n",
       "      <th>householdsize</th>\n",
       "      <th>racepctblack</th>\n",
       "      <th>racePctWhite</th>\n",
       "      <th>racePctAsian</th>\n",
       "      <th>racePctHisp</th>\n",
       "      <th>agePct12t21</th>\n",
       "      <th>agePct12t29</th>\n",
       "      <th>...</th>\n",
       "      <th>NumStreet</th>\n",
       "      <th>PctForeignBorn</th>\n",
       "      <th>PctBornSameState</th>\n",
       "      <th>PctSameHouse85</th>\n",
       "      <th>PctSameCity85</th>\n",
       "      <th>PctSameState85</th>\n",
       "      <th>LandArea</th>\n",
       "      <th>PopDens</th>\n",
       "      <th>PctUsePubTrans</th>\n",
       "      <th>ViolentCrimesPerPop</th>\n",
       "    </tr>\n",
       "  </thead>\n",
       "  <tbody>\n",
       "    <tr>\n",
       "      <th>0</th>\n",
       "      <td>8</td>\n",
       "      <td>Lakewoodcity</td>\n",
       "      <td>0.19</td>\n",
       "      <td>0.33</td>\n",
       "      <td>0.02</td>\n",
       "      <td>0.90</td>\n",
       "      <td>0.12</td>\n",
       "      <td>0.17</td>\n",
       "      <td>0.34</td>\n",
       "      <td>0.47</td>\n",
       "      <td>...</td>\n",
       "      <td>0.0</td>\n",
       "      <td>0.12</td>\n",
       "      <td>0.42</td>\n",
       "      <td>0.50</td>\n",
       "      <td>0.51</td>\n",
       "      <td>0.64</td>\n",
       "      <td>0.12</td>\n",
       "      <td>0.26</td>\n",
       "      <td>0.20</td>\n",
       "      <td>0.20</td>\n",
       "    </tr>\n",
       "    <tr>\n",
       "      <th>1</th>\n",
       "      <td>53</td>\n",
       "      <td>Tukwilacity</td>\n",
       "      <td>0.00</td>\n",
       "      <td>0.16</td>\n",
       "      <td>0.12</td>\n",
       "      <td>0.74</td>\n",
       "      <td>0.45</td>\n",
       "      <td>0.07</td>\n",
       "      <td>0.26</td>\n",
       "      <td>0.59</td>\n",
       "      <td>...</td>\n",
       "      <td>0.0</td>\n",
       "      <td>0.21</td>\n",
       "      <td>0.50</td>\n",
       "      <td>0.34</td>\n",
       "      <td>0.60</td>\n",
       "      <td>0.52</td>\n",
       "      <td>0.02</td>\n",
       "      <td>0.12</td>\n",
       "      <td>0.45</td>\n",
       "      <td>0.67</td>\n",
       "    </tr>\n",
       "    <tr>\n",
       "      <th>2</th>\n",
       "      <td>24</td>\n",
       "      <td>Aberdeentown</td>\n",
       "      <td>0.00</td>\n",
       "      <td>0.42</td>\n",
       "      <td>0.49</td>\n",
       "      <td>0.56</td>\n",
       "      <td>0.17</td>\n",
       "      <td>0.04</td>\n",
       "      <td>0.39</td>\n",
       "      <td>0.47</td>\n",
       "      <td>...</td>\n",
       "      <td>0.0</td>\n",
       "      <td>0.14</td>\n",
       "      <td>0.49</td>\n",
       "      <td>0.54</td>\n",
       "      <td>0.67</td>\n",
       "      <td>0.56</td>\n",
       "      <td>0.01</td>\n",
       "      <td>0.21</td>\n",
       "      <td>0.02</td>\n",
       "      <td>0.43</td>\n",
       "    </tr>\n",
       "    <tr>\n",
       "      <th>3</th>\n",
       "      <td>34</td>\n",
       "      <td>Willingborotownship</td>\n",
       "      <td>0.04</td>\n",
       "      <td>0.77</td>\n",
       "      <td>1.00</td>\n",
       "      <td>0.08</td>\n",
       "      <td>0.12</td>\n",
       "      <td>0.10</td>\n",
       "      <td>0.51</td>\n",
       "      <td>0.50</td>\n",
       "      <td>...</td>\n",
       "      <td>0.0</td>\n",
       "      <td>0.19</td>\n",
       "      <td>0.30</td>\n",
       "      <td>0.73</td>\n",
       "      <td>0.64</td>\n",
       "      <td>0.65</td>\n",
       "      <td>0.02</td>\n",
       "      <td>0.39</td>\n",
       "      <td>0.28</td>\n",
       "      <td>0.12</td>\n",
       "    </tr>\n",
       "    <tr>\n",
       "      <th>4</th>\n",
       "      <td>42</td>\n",
       "      <td>Bethlehemtownship</td>\n",
       "      <td>0.01</td>\n",
       "      <td>0.55</td>\n",
       "      <td>0.02</td>\n",
       "      <td>0.95</td>\n",
       "      <td>0.09</td>\n",
       "      <td>0.05</td>\n",
       "      <td>0.38</td>\n",
       "      <td>0.38</td>\n",
       "      <td>...</td>\n",
       "      <td>0.0</td>\n",
       "      <td>0.11</td>\n",
       "      <td>0.72</td>\n",
       "      <td>0.64</td>\n",
       "      <td>0.61</td>\n",
       "      <td>0.53</td>\n",
       "      <td>0.04</td>\n",
       "      <td>0.09</td>\n",
       "      <td>0.02</td>\n",
       "      <td>0.03</td>\n",
       "    </tr>\n",
       "  </tbody>\n",
       "</table>\n",
       "<p>5 rows × 100 columns</p>\n",
       "</div>"
      ],
      "text/plain": [
       "   state        communityname  population  householdsize  racepctblack  \\\n",
       "0      8         Lakewoodcity        0.19           0.33          0.02   \n",
       "1     53          Tukwilacity        0.00           0.16          0.12   \n",
       "2     24         Aberdeentown        0.00           0.42          0.49   \n",
       "3     34  Willingborotownship        0.04           0.77          1.00   \n",
       "4     42    Bethlehemtownship        0.01           0.55          0.02   \n",
       "\n",
       "   racePctWhite  racePctAsian  racePctHisp  agePct12t21  agePct12t29  \\\n",
       "0          0.90          0.12         0.17         0.34         0.47   \n",
       "1          0.74          0.45         0.07         0.26         0.59   \n",
       "2          0.56          0.17         0.04         0.39         0.47   \n",
       "3          0.08          0.12         0.10         0.51         0.50   \n",
       "4          0.95          0.09         0.05         0.38         0.38   \n",
       "\n",
       "          ...           NumStreet  PctForeignBorn  PctBornSameState  \\\n",
       "0         ...                 0.0            0.12              0.42   \n",
       "1         ...                 0.0            0.21              0.50   \n",
       "2         ...                 0.0            0.14              0.49   \n",
       "3         ...                 0.0            0.19              0.30   \n",
       "4         ...                 0.0            0.11              0.72   \n",
       "\n",
       "   PctSameHouse85  PctSameCity85  PctSameState85  LandArea  PopDens  \\\n",
       "0            0.50           0.51            0.64      0.12     0.26   \n",
       "1            0.34           0.60            0.52      0.02     0.12   \n",
       "2            0.54           0.67            0.56      0.01     0.21   \n",
       "3            0.73           0.64            0.65      0.02     0.39   \n",
       "4            0.64           0.61            0.53      0.04     0.09   \n",
       "\n",
       "   PctUsePubTrans  ViolentCrimesPerPop  \n",
       "0            0.20                 0.20  \n",
       "1            0.45                 0.67  \n",
       "2            0.02                 0.43  \n",
       "3            0.28                 0.12  \n",
       "4            0.02                 0.03  \n",
       "\n",
       "[5 rows x 100 columns]"
      ]
     },
     "execution_count": 3,
     "metadata": {},
     "output_type": "execute_result"
    }
   ],
   "source": [
    "# load the data\n",
    "c_df = pd.read_csv(r\"/Users/sarahcummings/Documents/csc478/assignment3/communities/communities.csv\",encoding = \"ISO-8859-1\", low_memory=False)\n",
    "#c_df = pd.read_csv(r\"C:\\Users\\scummings\\Desktop\\MyFiles\\school\\csc478_3\\communities/communities.csv\",encoding = \"ISO-8859-1\", low_memory=False)\n",
    "\n",
    "c_df.head()"
   ]
  },
  {
   "cell_type": "code",
   "execution_count": 4,
   "metadata": {
    "collapsed": false
   },
   "outputs": [
    {
     "data": {
      "text/html": [
       "<div>\n",
       "<table border=\"1\" class=\"dataframe\">\n",
       "  <thead>\n",
       "    <tr style=\"text-align: right;\">\n",
       "      <th></th>\n",
       "      <th>state</th>\n",
       "      <th>communityname</th>\n",
       "      <th>population</th>\n",
       "      <th>householdsize</th>\n",
       "      <th>racepctblack</th>\n",
       "      <th>racePctWhite</th>\n",
       "      <th>racePctAsian</th>\n",
       "      <th>racePctHisp</th>\n",
       "      <th>agePct12t21</th>\n",
       "      <th>agePct12t29</th>\n",
       "      <th>...</th>\n",
       "      <th>NumStreet</th>\n",
       "      <th>PctForeignBorn</th>\n",
       "      <th>PctBornSameState</th>\n",
       "      <th>PctSameHouse85</th>\n",
       "      <th>PctSameCity85</th>\n",
       "      <th>PctSameState85</th>\n",
       "      <th>LandArea</th>\n",
       "      <th>PopDens</th>\n",
       "      <th>PctUsePubTrans</th>\n",
       "      <th>ViolentCrimesPerPop</th>\n",
       "    </tr>\n",
       "  </thead>\n",
       "  <tbody>\n",
       "    <tr>\n",
       "      <th>count</th>\n",
       "      <td>1994.000000</td>\n",
       "      <td>1994</td>\n",
       "      <td>1994.000000</td>\n",
       "      <td>1994.000000</td>\n",
       "      <td>1994.000000</td>\n",
       "      <td>1994.000000</td>\n",
       "      <td>1994.000000</td>\n",
       "      <td>1994.000000</td>\n",
       "      <td>1994.000000</td>\n",
       "      <td>1994.000000</td>\n",
       "      <td>...</td>\n",
       "      <td>1994.000000</td>\n",
       "      <td>1994.000000</td>\n",
       "      <td>1994.000000</td>\n",
       "      <td>1994.000000</td>\n",
       "      <td>1994.000000</td>\n",
       "      <td>1994.000000</td>\n",
       "      <td>1994.000000</td>\n",
       "      <td>1994.000000</td>\n",
       "      <td>1994.000000</td>\n",
       "      <td>1994.000000</td>\n",
       "    </tr>\n",
       "    <tr>\n",
       "      <th>unique</th>\n",
       "      <td>NaN</td>\n",
       "      <td>1828</td>\n",
       "      <td>NaN</td>\n",
       "      <td>NaN</td>\n",
       "      <td>NaN</td>\n",
       "      <td>NaN</td>\n",
       "      <td>NaN</td>\n",
       "      <td>NaN</td>\n",
       "      <td>NaN</td>\n",
       "      <td>NaN</td>\n",
       "      <td>...</td>\n",
       "      <td>NaN</td>\n",
       "      <td>NaN</td>\n",
       "      <td>NaN</td>\n",
       "      <td>NaN</td>\n",
       "      <td>NaN</td>\n",
       "      <td>NaN</td>\n",
       "      <td>NaN</td>\n",
       "      <td>NaN</td>\n",
       "      <td>NaN</td>\n",
       "      <td>NaN</td>\n",
       "    </tr>\n",
       "    <tr>\n",
       "      <th>top</th>\n",
       "      <td>NaN</td>\n",
       "      <td>Jacksonvillecity</td>\n",
       "      <td>NaN</td>\n",
       "      <td>NaN</td>\n",
       "      <td>NaN</td>\n",
       "      <td>NaN</td>\n",
       "      <td>NaN</td>\n",
       "      <td>NaN</td>\n",
       "      <td>NaN</td>\n",
       "      <td>NaN</td>\n",
       "      <td>...</td>\n",
       "      <td>NaN</td>\n",
       "      <td>NaN</td>\n",
       "      <td>NaN</td>\n",
       "      <td>NaN</td>\n",
       "      <td>NaN</td>\n",
       "      <td>NaN</td>\n",
       "      <td>NaN</td>\n",
       "      <td>NaN</td>\n",
       "      <td>NaN</td>\n",
       "      <td>NaN</td>\n",
       "    </tr>\n",
       "    <tr>\n",
       "      <th>freq</th>\n",
       "      <td>NaN</td>\n",
       "      <td>5</td>\n",
       "      <td>NaN</td>\n",
       "      <td>NaN</td>\n",
       "      <td>NaN</td>\n",
       "      <td>NaN</td>\n",
       "      <td>NaN</td>\n",
       "      <td>NaN</td>\n",
       "      <td>NaN</td>\n",
       "      <td>NaN</td>\n",
       "      <td>...</td>\n",
       "      <td>NaN</td>\n",
       "      <td>NaN</td>\n",
       "      <td>NaN</td>\n",
       "      <td>NaN</td>\n",
       "      <td>NaN</td>\n",
       "      <td>NaN</td>\n",
       "      <td>NaN</td>\n",
       "      <td>NaN</td>\n",
       "      <td>NaN</td>\n",
       "      <td>NaN</td>\n",
       "    </tr>\n",
       "    <tr>\n",
       "      <th>mean</th>\n",
       "      <td>28.683551</td>\n",
       "      <td>NaN</td>\n",
       "      <td>0.057593</td>\n",
       "      <td>0.463395</td>\n",
       "      <td>0.179629</td>\n",
       "      <td>0.753716</td>\n",
       "      <td>0.153681</td>\n",
       "      <td>0.144022</td>\n",
       "      <td>0.424218</td>\n",
       "      <td>0.493867</td>\n",
       "      <td>...</td>\n",
       "      <td>0.022778</td>\n",
       "      <td>0.215552</td>\n",
       "      <td>0.608892</td>\n",
       "      <td>0.535050</td>\n",
       "      <td>0.626424</td>\n",
       "      <td>0.651530</td>\n",
       "      <td>0.065231</td>\n",
       "      <td>0.232854</td>\n",
       "      <td>0.161685</td>\n",
       "      <td>0.237979</td>\n",
       "    </tr>\n",
       "    <tr>\n",
       "      <th>std</th>\n",
       "      <td>16.397553</td>\n",
       "      <td>NaN</td>\n",
       "      <td>0.126906</td>\n",
       "      <td>0.163717</td>\n",
       "      <td>0.253442</td>\n",
       "      <td>0.244039</td>\n",
       "      <td>0.208877</td>\n",
       "      <td>0.232492</td>\n",
       "      <td>0.155196</td>\n",
       "      <td>0.143564</td>\n",
       "      <td>...</td>\n",
       "      <td>0.100400</td>\n",
       "      <td>0.231134</td>\n",
       "      <td>0.204329</td>\n",
       "      <td>0.181352</td>\n",
       "      <td>0.200521</td>\n",
       "      <td>0.198221</td>\n",
       "      <td>0.109459</td>\n",
       "      <td>0.203092</td>\n",
       "      <td>0.229055</td>\n",
       "      <td>0.232985</td>\n",
       "    </tr>\n",
       "    <tr>\n",
       "      <th>min</th>\n",
       "      <td>1.000000</td>\n",
       "      <td>NaN</td>\n",
       "      <td>0.000000</td>\n",
       "      <td>0.000000</td>\n",
       "      <td>0.000000</td>\n",
       "      <td>0.000000</td>\n",
       "      <td>0.000000</td>\n",
       "      <td>0.000000</td>\n",
       "      <td>0.000000</td>\n",
       "      <td>0.000000</td>\n",
       "      <td>...</td>\n",
       "      <td>0.000000</td>\n",
       "      <td>0.000000</td>\n",
       "      <td>0.000000</td>\n",
       "      <td>0.000000</td>\n",
       "      <td>0.000000</td>\n",
       "      <td>0.000000</td>\n",
       "      <td>0.000000</td>\n",
       "      <td>0.000000</td>\n",
       "      <td>0.000000</td>\n",
       "      <td>0.000000</td>\n",
       "    </tr>\n",
       "    <tr>\n",
       "      <th>25%</th>\n",
       "      <td>12.000000</td>\n",
       "      <td>NaN</td>\n",
       "      <td>0.010000</td>\n",
       "      <td>0.350000</td>\n",
       "      <td>0.020000</td>\n",
       "      <td>0.630000</td>\n",
       "      <td>0.040000</td>\n",
       "      <td>0.010000</td>\n",
       "      <td>0.340000</td>\n",
       "      <td>0.410000</td>\n",
       "      <td>...</td>\n",
       "      <td>0.000000</td>\n",
       "      <td>0.060000</td>\n",
       "      <td>0.470000</td>\n",
       "      <td>0.420000</td>\n",
       "      <td>0.520000</td>\n",
       "      <td>0.560000</td>\n",
       "      <td>0.020000</td>\n",
       "      <td>0.100000</td>\n",
       "      <td>0.020000</td>\n",
       "      <td>0.070000</td>\n",
       "    </tr>\n",
       "    <tr>\n",
       "      <th>50%</th>\n",
       "      <td>34.000000</td>\n",
       "      <td>NaN</td>\n",
       "      <td>0.020000</td>\n",
       "      <td>0.440000</td>\n",
       "      <td>0.060000</td>\n",
       "      <td>0.850000</td>\n",
       "      <td>0.070000</td>\n",
       "      <td>0.040000</td>\n",
       "      <td>0.400000</td>\n",
       "      <td>0.480000</td>\n",
       "      <td>...</td>\n",
       "      <td>0.000000</td>\n",
       "      <td>0.130000</td>\n",
       "      <td>0.630000</td>\n",
       "      <td>0.540000</td>\n",
       "      <td>0.670000</td>\n",
       "      <td>0.700000</td>\n",
       "      <td>0.040000</td>\n",
       "      <td>0.170000</td>\n",
       "      <td>0.070000</td>\n",
       "      <td>0.150000</td>\n",
       "    </tr>\n",
       "    <tr>\n",
       "      <th>75%</th>\n",
       "      <td>42.000000</td>\n",
       "      <td>NaN</td>\n",
       "      <td>0.050000</td>\n",
       "      <td>0.540000</td>\n",
       "      <td>0.230000</td>\n",
       "      <td>0.940000</td>\n",
       "      <td>0.170000</td>\n",
       "      <td>0.160000</td>\n",
       "      <td>0.470000</td>\n",
       "      <td>0.540000</td>\n",
       "      <td>...</td>\n",
       "      <td>0.000000</td>\n",
       "      <td>0.280000</td>\n",
       "      <td>0.777500</td>\n",
       "      <td>0.660000</td>\n",
       "      <td>0.770000</td>\n",
       "      <td>0.790000</td>\n",
       "      <td>0.070000</td>\n",
       "      <td>0.280000</td>\n",
       "      <td>0.190000</td>\n",
       "      <td>0.330000</td>\n",
       "    </tr>\n",
       "    <tr>\n",
       "      <th>max</th>\n",
       "      <td>56.000000</td>\n",
       "      <td>NaN</td>\n",
       "      <td>1.000000</td>\n",
       "      <td>1.000000</td>\n",
       "      <td>1.000000</td>\n",
       "      <td>1.000000</td>\n",
       "      <td>1.000000</td>\n",
       "      <td>1.000000</td>\n",
       "      <td>1.000000</td>\n",
       "      <td>1.000000</td>\n",
       "      <td>...</td>\n",
       "      <td>1.000000</td>\n",
       "      <td>1.000000</td>\n",
       "      <td>1.000000</td>\n",
       "      <td>1.000000</td>\n",
       "      <td>1.000000</td>\n",
       "      <td>1.000000</td>\n",
       "      <td>1.000000</td>\n",
       "      <td>1.000000</td>\n",
       "      <td>1.000000</td>\n",
       "      <td>1.000000</td>\n",
       "    </tr>\n",
       "  </tbody>\n",
       "</table>\n",
       "<p>11 rows × 100 columns</p>\n",
       "</div>"
      ],
      "text/plain": [
       "              state     communityname   population  householdsize  \\\n",
       "count   1994.000000              1994  1994.000000    1994.000000   \n",
       "unique          NaN              1828          NaN            NaN   \n",
       "top             NaN  Jacksonvillecity          NaN            NaN   \n",
       "freq            NaN                 5          NaN            NaN   \n",
       "mean      28.683551               NaN     0.057593       0.463395   \n",
       "std       16.397553               NaN     0.126906       0.163717   \n",
       "min        1.000000               NaN     0.000000       0.000000   \n",
       "25%       12.000000               NaN     0.010000       0.350000   \n",
       "50%       34.000000               NaN     0.020000       0.440000   \n",
       "75%       42.000000               NaN     0.050000       0.540000   \n",
       "max       56.000000               NaN     1.000000       1.000000   \n",
       "\n",
       "        racepctblack  racePctWhite  racePctAsian  racePctHisp  agePct12t21  \\\n",
       "count    1994.000000   1994.000000   1994.000000  1994.000000  1994.000000   \n",
       "unique           NaN           NaN           NaN          NaN          NaN   \n",
       "top              NaN           NaN           NaN          NaN          NaN   \n",
       "freq             NaN           NaN           NaN          NaN          NaN   \n",
       "mean        0.179629      0.753716      0.153681     0.144022     0.424218   \n",
       "std         0.253442      0.244039      0.208877     0.232492     0.155196   \n",
       "min         0.000000      0.000000      0.000000     0.000000     0.000000   \n",
       "25%         0.020000      0.630000      0.040000     0.010000     0.340000   \n",
       "50%         0.060000      0.850000      0.070000     0.040000     0.400000   \n",
       "75%         0.230000      0.940000      0.170000     0.160000     0.470000   \n",
       "max         1.000000      1.000000      1.000000     1.000000     1.000000   \n",
       "\n",
       "        agePct12t29         ...             NumStreet  PctForeignBorn  \\\n",
       "count   1994.000000         ...           1994.000000     1994.000000   \n",
       "unique          NaN         ...                   NaN             NaN   \n",
       "top             NaN         ...                   NaN             NaN   \n",
       "freq            NaN         ...                   NaN             NaN   \n",
       "mean       0.493867         ...              0.022778        0.215552   \n",
       "std        0.143564         ...              0.100400        0.231134   \n",
       "min        0.000000         ...              0.000000        0.000000   \n",
       "25%        0.410000         ...              0.000000        0.060000   \n",
       "50%        0.480000         ...              0.000000        0.130000   \n",
       "75%        0.540000         ...              0.000000        0.280000   \n",
       "max        1.000000         ...              1.000000        1.000000   \n",
       "\n",
       "        PctBornSameState  PctSameHouse85  PctSameCity85  PctSameState85  \\\n",
       "count        1994.000000     1994.000000    1994.000000     1994.000000   \n",
       "unique               NaN             NaN            NaN             NaN   \n",
       "top                  NaN             NaN            NaN             NaN   \n",
       "freq                 NaN             NaN            NaN             NaN   \n",
       "mean            0.608892        0.535050       0.626424        0.651530   \n",
       "std             0.204329        0.181352       0.200521        0.198221   \n",
       "min             0.000000        0.000000       0.000000        0.000000   \n",
       "25%             0.470000        0.420000       0.520000        0.560000   \n",
       "50%             0.630000        0.540000       0.670000        0.700000   \n",
       "75%             0.777500        0.660000       0.770000        0.790000   \n",
       "max             1.000000        1.000000       1.000000        1.000000   \n",
       "\n",
       "           LandArea      PopDens  PctUsePubTrans  ViolentCrimesPerPop  \n",
       "count   1994.000000  1994.000000     1994.000000          1994.000000  \n",
       "unique          NaN          NaN             NaN                  NaN  \n",
       "top             NaN          NaN             NaN                  NaN  \n",
       "freq            NaN          NaN             NaN                  NaN  \n",
       "mean       0.065231     0.232854        0.161685             0.237979  \n",
       "std        0.109459     0.203092        0.229055             0.232985  \n",
       "min        0.000000     0.000000        0.000000             0.000000  \n",
       "25%        0.020000     0.100000        0.020000             0.070000  \n",
       "50%        0.040000     0.170000        0.070000             0.150000  \n",
       "75%        0.070000     0.280000        0.190000             0.330000  \n",
       "max        1.000000     1.000000        1.000000             1.000000  \n",
       "\n",
       "[11 rows x 100 columns]"
      ]
     },
     "execution_count": 4,
     "metadata": {},
     "output_type": "execute_result"
    }
   ],
   "source": [
    "#Compute and display basic statistics (mean, standard deviation, min, max\n",
    "c_df.describe(include=\"all\")"
   ]
  },
  {
   "cell_type": "code",
   "execution_count": 5,
   "metadata": {
    "collapsed": false
   },
   "outputs": [
    {
     "data": {
      "text/plain": [
       "state                      int64\n",
       "communityname             object\n",
       "population               float64\n",
       "householdsize            float64\n",
       "racepctblack             float64\n",
       "racePctWhite             float64\n",
       "racePctAsian             float64\n",
       "racePctHisp              float64\n",
       "agePct12t21              float64\n",
       "agePct12t29              float64\n",
       "agePct16t24              float64\n",
       "agePct65up               float64\n",
       "numbUrban                float64\n",
       "pctUrban                 float64\n",
       "medIncome                float64\n",
       "pctWWage                 float64\n",
       "pctWFarmSelf             float64\n",
       "pctWInvInc               float64\n",
       "pctWSocSec               float64\n",
       "pctWPubAsst              float64\n",
       "pctWRetire               float64\n",
       "medFamInc                float64\n",
       "perCapInc                float64\n",
       "whitePerCap              float64\n",
       "blackPerCap              float64\n",
       "indianPerCap             float64\n",
       "AsianPerCap              float64\n",
       "OtherPerCap               object\n",
       "HispPerCap               float64\n",
       "NumUnderPov              float64\n",
       "                          ...   \n",
       "MedNumBR                 float64\n",
       "HousVacant               float64\n",
       "PctHousOccup             float64\n",
       "PctHousOwnOcc            float64\n",
       "PctVacantBoarded         float64\n",
       "PctVacMore6Mos           float64\n",
       "MedYrHousBuilt           float64\n",
       "PctHousNoPhone           float64\n",
       "PctWOFullPlumb           float64\n",
       "OwnOccLowQuart           float64\n",
       "OwnOccMedVal             float64\n",
       "OwnOccHiQuart            float64\n",
       "RentLowQ                 float64\n",
       "RentMedian               float64\n",
       "RentHighQ                float64\n",
       "MedRent                  float64\n",
       "MedRentPctHousInc        float64\n",
       "MedOwnCostPctInc         float64\n",
       "MedOwnCostPctIncNoMtg    float64\n",
       "NumInShelters            float64\n",
       "NumStreet                float64\n",
       "PctForeignBorn           float64\n",
       "PctBornSameState         float64\n",
       "PctSameHouse85           float64\n",
       "PctSameCity85            float64\n",
       "PctSameState85           float64\n",
       "LandArea                 float64\n",
       "PopDens                  float64\n",
       "PctUsePubTrans           float64\n",
       "ViolentCrimesPerPop      float64\n",
       "dtype: object"
      ]
     },
     "execution_count": 5,
     "metadata": {},
     "output_type": "execute_result"
    }
   ],
   "source": [
    "#examine varaible types\n",
    "c_df.dtypes"
   ]
  },
  {
   "cell_type": "code",
   "execution_count": 6,
   "metadata": {
    "collapsed": false
   },
   "outputs": [],
   "source": [
    "#Correct for the ? in data\n",
    "c_df.OtherPerCap=pd.to_numeric(c_df.OtherPerCap, errors='coerce') \n",
    "c_df = c_df.dropna(axis=0)"
   ]
  },
  {
   "cell_type": "code",
   "execution_count": 7,
   "metadata": {
    "collapsed": true
   },
   "outputs": [],
   "source": [
    "#Separate the target attribute for regression.\n",
    "y = np.array(c_df.ViolentCrimesPerPop)\n",
    "#Pull the categorical vars from the X that we will need for regression\n",
    "X = np.array(c_df.drop(['ViolentCrimesPerPop', 'state', 'communityname'], axis=1))"
   ]
  },
  {
   "cell_type": "code",
   "execution_count": 8,
   "metadata": {
    "collapsed": false
   },
   "outputs": [
    {
     "name": "stdout",
     "output_type": "stream",
     "text": [
      "(1993,) (1993, 97)\n"
     ]
    }
   ],
   "source": [
    "print(y.shape,X.shape)"
   ]
  },
  {
   "cell_type": "markdown",
   "metadata": {},
   "source": [
    "#### B) Perform standard linear regression on data  using the implementation for Ch. 8 of MLA. Compute the RMSE value on the full training data, plot the correlation between the predicted and actual values of the target attribute, display the obtained regression coefficients (weights). Finally, perform 10-fold cross-validation and compare the cross-validation RMSE to the training RMSE "
   ]
  },
  {
   "cell_type": "code",
   "execution_count": 9,
   "metadata": {
    "collapsed": false
   },
   "outputs": [],
   "source": [
    "#Function from the Machine Learning in Action Book-- pg 157\n",
    "\n",
    "#prep the X var set such that we can have a constant\n",
    "#x_var = np.array(X)\n",
    "#x_var = np.array([np.concatenate((v,[1])) for v in x_var])\n",
    "\n",
    "def standRegres(xArr, yArr):\n",
    "    xMat = np.matrix(xArr) ; yMat = np.matrix(yArr).T\n",
    "    xTx = xMat.T*xMat\n",
    "    if np.linalg.det(xTx) == 0.0:\n",
    "        print(\"This matrix is singular, cannot do inverse\")\n",
    "    else:\n",
    "        ws = xTx.I * (xMat.T*yMat)\n",
    "        return ws\n"
   ]
  },
  {
   "cell_type": "code",
   "execution_count": 10,
   "metadata": {
    "collapsed": false
   },
   "outputs": [
    {
     "data": {
      "text/plain": [
       "matrix([[ 0.14753045],\n",
       "        [-0.02816632],\n",
       "        [ 0.24261797],\n",
       "        [-0.00159634],\n",
       "        [ 0.01150284],\n",
       "        [ 0.10644182],\n",
       "        [ 0.18985213],\n",
       "        [-0.09097503],\n",
       "        [-0.25975459],\n",
       "        [ 0.16636631],\n",
       "        [-0.253063  ],\n",
       "        [ 0.04772706],\n",
       "        [-0.1823868 ],\n",
       "        [-0.13361716],\n",
       "        [ 0.04824077],\n",
       "        [-0.13030763],\n",
       "        [ 0.09512969],\n",
       "        [ 0.0321094 ],\n",
       "        [-0.07190648],\n",
       "        [ 0.2463212 ],\n",
       "        [ 0.09228257],\n",
       "        [-0.29747294],\n",
       "        [-0.02599742],\n",
       "        [-0.03438455],\n",
       "        [ 0.0249581 ],\n",
       "        [ 0.04217876],\n",
       "        [ 0.03745346],\n",
       "        [ 0.0820154 ],\n",
       "        [-0.14197371],\n",
       "        [-0.09911038],\n",
       "        [ 0.07412209],\n",
       "        [ 0.1260963 ],\n",
       "        [ 0.01704273],\n",
       "        [ 0.27039384],\n",
       "        [-0.03912943],\n",
       "        [-0.00861928],\n",
       "        [ 0.5475927 ],\n",
       "        [ 0.24559331],\n",
       "        [ 0.26377363],\n",
       "        [-0.65353994],\n",
       "        [-0.15499415],\n",
       "        [ 0.06700405],\n",
       "        [-0.26707716],\n",
       "        [-0.0297381 ],\n",
       "        [ 0.0019009 ],\n",
       "        [ 0.06105849],\n",
       "        [-0.18746594],\n",
       "        [-0.13557222],\n",
       "        [ 0.15722358],\n",
       "        [-0.13782654],\n",
       "        [ 0.02693829],\n",
       "        [ 0.03426659],\n",
       "        [-0.08588121],\n",
       "        [ 0.04010041],\n",
       "        [-0.03299096],\n",
       "        [-0.24278694],\n",
       "        [ 0.49771545],\n",
       "        [-0.23391561],\n",
       "        [ 0.04450365],\n",
       "        [-0.12349645],\n",
       "        [ 0.0710047 ],\n",
       "        [-0.27635045],\n",
       "        [ 0.65570102],\n",
       "        [ 0.00250275],\n",
       "        [-0.21007103],\n",
       "        [-0.69089622],\n",
       "        [ 0.18636784],\n",
       "        [ 0.15233714],\n",
       "        [ 0.03581777],\n",
       "        [ 0.18489986],\n",
       "        [-0.03688693],\n",
       "        [ 0.60519851],\n",
       "        [ 0.04206855],\n",
       "        [-0.06713613],\n",
       "        [-0.01889742],\n",
       "        [ 0.01298893],\n",
       "        [-0.01542782],\n",
       "        [-0.38976856],\n",
       "        [ 0.30191188],\n",
       "        [ 0.00826827],\n",
       "        [-0.25449719],\n",
       "        [-0.02678002],\n",
       "        [-0.07102765],\n",
       "        [ 0.38190307],\n",
       "        [ 0.04726423],\n",
       "        [-0.03487438],\n",
       "        [-0.08223632],\n",
       "        [ 0.14246213],\n",
       "        [ 0.1754713 ],\n",
       "        [ 0.1533781 ],\n",
       "        [ 0.02335978],\n",
       "        [-0.01436014],\n",
       "        [ 0.03480558],\n",
       "        [ 0.0033619 ],\n",
       "        [ 0.02112081],\n",
       "        [-0.00244081],\n",
       "        [-0.03893743]])"
      ]
     },
     "execution_count": 10,
     "metadata": {},
     "output_type": "execute_result"
    }
   ],
   "source": [
    "#Perform the standard linear reg\n",
    "s_lin = standRegres(X, y)\n",
    "# Display the obtained regression coefficients (weights).\n",
    "s_lin\n"
   ]
  },
  {
   "cell_type": "code",
   "execution_count": 11,
   "metadata": {
    "collapsed": false
   },
   "outputs": [
    {
     "name": "stdout",
     "output_type": "stream",
     "text": [
      "[[ 0.12896427]]\n"
     ]
    }
   ],
   "source": [
    "# Compute the RMSE value on the full training data\n",
    "yHat = X*s_lin\n",
    "yHatT = yHat.T\n",
    "err = abs(yHatT - y)\n",
    "total_error = np.dot(err,err.T)\n",
    "rmse = np.sqrt(total_error/len(yHat))\n",
    "print(rmse) \n",
    "#print(yHatT,y)"
   ]
  },
  {
   "cell_type": "code",
   "execution_count": 12,
   "metadata": {
    "collapsed": false
   },
   "outputs": [
    {
     "data": {
      "image/png": "[encoded data removed]",
      "text/plain": [
       "<matplotlib.figure.Figure at 0x1072e45c0>"
      ]
     },
     "metadata": {},
     "output_type": "display_data"
    }
   ],
   "source": [
    "# Plot the correlation between the predicted and actual values of the target attribute.\n",
    "\n",
    "#create a scatter as in the population example\n",
    "fig = plt.figure()\n",
    "ax = fig.add_subplot(111)\n",
    "ax.scatter(yHatT,y)\n",
    "\n",
    "\n",
    "plt.xlabel('predicted')\n",
    "plt.ylabel('actual')\n",
    "plt.show() \n",
    "\n"
   ]
  },
  {
   "cell_type": "code",
   "execution_count": 13,
   "metadata": {
    "collapsed": false
   },
   "outputs": [
    {
     "name": "stderr",
     "output_type": "stream",
     "text": [
      "/Applications/anaconda/lib/python3.6/site-packages/sklearn/cross_validation.py:44: DeprecationWarning: This module was deprecated in version 0.18 in favor of the model_selection module into which all the refactored classes and functions are moved. Also note that the interface of the new CV iterators are different from that of this module. This module will be removed in 0.20.\n",
      "  \"This module will be removed in 0.20.\", DeprecationWarning)\n"
     ]
    }
   ],
   "source": [
    "# Perform 10-fold cross-validation and compare the cross-validation RMSE to the training RMSE\n",
    "from sklearn import cross_validation\n",
    "#dat=c_df.drop(['state', 'communityname'], axis=1)\n",
    "##dat.head()\n",
    "\n",
    "#cv_scores = cross_validation.cross_val_score(standRegerss, dat, y, cv=10)\n",
    "#sr=standRegress.fit(x_var,y)\n",
    "\n",
    "#I have no idea why this isn't working with my standard lin fuction so im going to use the regular function\n"
   ]
  },
  {
   "cell_type": "code",
   "execution_count": 14,
   "metadata": {
    "collapsed": false,
    "scrolled": true
   },
   "outputs": [
    {
     "name": "stdout",
     "output_type": "stream",
     "text": [
      "Original rmse: 0.128691194406      10 fold rmse: 0.136298055672\n"
     ]
    }
   ],
   "source": [
    "from sklearn.linear_model import LinearRegression, Lasso, Ridge, ElasticNet, SGDRegressor\n",
    "from sklearn.cross_validation import KFold\n",
    "from sklearn import cross_validation\n",
    "## 10 fold cross vaidation\n",
    "lin=LinearRegression()\n",
    "fit_LR=lin.fit(X, y)\n",
    "\n",
    "#create the fit\n",
    "linrdf=lin.predict(X)\n",
    "error=linrdf-y\n",
    "totalErr=np.dot(error,error)\n",
    "rmse_train=np.sqrt(totalErr/len(linrdf))\n",
    "\n",
    "\n",
    "#divide data into folds\n",
    "kf = KFold(len(X), n_folds=10)\n",
    "xval_err = 0\n",
    "\n",
    "#calculate the rmse for the 10 folds\n",
    "for train,test in kf:\n",
    "    lin.fit(X[train],y[train])\n",
    "    # p = np.array([linreg.predict(xi) for xi in x[test]])\n",
    "    p = lin.predict(X[test])\n",
    "    e = p-y[test]\n",
    "    xval_err += np.dot(e,e)\n",
    "    \n",
    "rmse_10cv = np.sqrt(xval_err/len(X))\n",
    "\n",
    "print(\"Original rmse:\",rmse_train,\"     10 fold rmse:\",rmse_10cv)\n"
   ]
  },
  {
   "cell_type": "markdown",
   "metadata": {},
   "source": [
    "##### From the rmse values, we see our original rmse is lower than the 10 fold validation."
   ]
  },
  {
   "cell_type": "markdown",
   "metadata": {},
   "source": [
    "#### C) Feature Selection:  use the scikit-learn regression model from sklearn.linear_model with a subset of features to perform linear regression. For feature selection, write a script or function that takes as input the training data, target attribute; the model; and any other parameters you find necessary, and returns the optimal percentage of the most informative features to use. Your approach should use k-fold cross-validation on the training data (you can use k=5). You can use feature_selection.SelectPercentile to find the most informative variables. \n"
   ]
  },
  {
   "cell_type": "code",
   "execution_count": 15,
   "metadata": {
    "collapsed": false
   },
   "outputs": [],
   "source": [
    "\n",
    "from sklearn.cross_validation import train_test_split\n",
    "from sklearn.feature_selection import SelectPercentile, f_regression\n"
   ]
  },
  {
   "cell_type": "code",
   "execution_count": 16,
   "metadata": {
    "collapsed": true
   },
   "outputs": [],
   "source": [
    "#Create a train test split\n",
    "X_train, X_test, y_train, y_test = train_test_split(X, y, test_size=0.2, random_state=33)"
   ]
  },
  {
   "cell_type": "code",
   "execution_count": 17,
   "metadata": {
    "collapsed": false
   },
   "outputs": [
    {
     "data": {
      "text/plain": [
       "(1594,)"
      ]
     },
     "execution_count": 17,
     "metadata": {},
     "output_type": "execute_result"
    }
   ],
   "source": [
    "y_train.shape"
   ]
  },
  {
   "cell_type": "code",
   "execution_count": 18,
   "metadata": {
    "collapsed": false
   },
   "outputs": [],
   "source": [
    "from sklearn.linear_model import LinearRegression\n",
    "from sklearn import feature_selection\n",
    "\n",
    "linreg = LinearRegression()\n",
    "linreg=linreg.fit(X_train, y_train)\n"
   ]
  },
  {
   "cell_type": "code",
   "execution_count": 19,
   "metadata": {
    "collapsed": false
   },
   "outputs": [
    {
     "data": {
      "text/plain": [
       "SelectPercentile(percentile=10,\n",
       "         score_func=<function f_regression at 0x111816950>)"
      ]
     },
     "execution_count": 19,
     "metadata": {},
     "output_type": "execute_result"
    }
   ],
   "source": [
    "fSelector = SelectPercentile(f_regression, percentile=10)\n",
    "fSelector.fit(X, y)"
   ]
  },
  {
   "cell_type": "code",
   "execution_count": 20,
   "metadata": {
    "collapsed": false
   },
   "outputs": [
    {
     "name": "stdout",
     "output_type": "stream",
     "text": [
      "[[ 0.31  0.69  0.39 ...,  0.71  0.59  0.2 ]\n",
      " [ 0.41  0.65  0.35 ...,  0.64  0.55  0.24]\n",
      " [ 0.02  0.97  0.68 ...,  0.81  0.76  0.05]\n",
      " ..., \n",
      " [ 0.19  0.81  0.47 ...,  0.57  0.54  0.27]\n",
      " [ 0.52  0.51  0.33 ...,  0.69  0.47  0.25]\n",
      " [ 0.01  0.99  0.75 ...,  0.81  0.87  0.1 ]]\n"
     ]
    }
   ],
   "source": [
    "X_train_fs = fSelector.fit_transform(X_train, y_train)\n",
    "print(X_train_fs)"
   ]
  },
  {
   "cell_type": "code",
   "execution_count": 21,
   "metadata": {
    "collapsed": false
   },
   "outputs": [
    {
     "name": "stdout",
     "output_type": "stream",
     "text": [
      "1 0.536089414844\n",
      "6 0.592040520825\n",
      "11 0.601778965892\n",
      "16 0.606537859606\n",
      "21 0.61956860089\n",
      "26 0.627805572525\n",
      "31 0.632700961662\n",
      "36 0.635784521561\n",
      "41 0.638294905898\n",
      "46 0.633828811687\n",
      "51 0.634102772635\n",
      "56 0.633566155789\n",
      "61 0.632453759348\n",
      "66 0.630731851445\n",
      "71 0.629205102154\n",
      "76 0.63112482526\n",
      "81 0.631764224671\n",
      "86 0.634611061522\n",
      "91 0.632987681144\n",
      "96 0.639997020136\n",
      "Optimal percentile of features:96 \n",
      "\n",
      "Optimal number of features:93 \n",
      "\n"
     ]
    },
    {
     "name": "stderr",
     "output_type": "stream",
     "text": [
      "/Applications/anaconda/lib/python3.6/site-packages/ipykernel/__main__.py:18: VisibleDeprecationWarning: converting an array with ndim > 0 to an index will result in an error in the future\n",
      "/Applications/anaconda/lib/python3.6/site-packages/ipykernel/__main__.py:19: VisibleDeprecationWarning: converting an array with ndim > 0 to an index will result in an error in the future\n"
     ]
    }
   ],
   "source": [
    "from sklearn import cross_validation\n",
    "import math\n",
    "# Write a script or function that takes as input the training data, target attribute; the model; and any other parameters you find necessary, and returns the optimal percentage of the most informative features to use. \n",
    "\n",
    "percentiles = range(1, 100, 5)\n",
    "results = []\n",
    "for i in range(1, 100, 5):\n",
    "    fSelector = SelectPercentile(f_regression, percentile=i)\n",
    "    fSelector.fit(X, y)\n",
    "    X_train_fs = fSelector.fit_transform(X_train, y_train)\n",
    "    #fs = feature_selection.SelectPercentile(feature_selection.chi2, percentile=i)\n",
    "    #X_train_fs = fs.fit_transform(X_train, y_train)\n",
    "    scores = cross_validation.cross_val_score(linreg, X_train_fs, y_train, cv=5)\n",
    "    print(i,scores.mean())\n",
    "    results = np.append(results, scores.mean())\n",
    "\n",
    "optimal_percentil = np.where(results == results.max())[0]\n",
    "print(\"Optimal percentile of features:{0}\".format(percentiles[optimal_percentil]), \"\\n\")\n",
    "optimal_num_features = int(math.floor(percentiles[optimal_percentil]*X.shape[1]/100))\n",
    "print(\"Optimal number of features:{0}\".format(optimal_num_features), \"\\n\")\n"
   ]
  },
  {
   "cell_type": "code",
   "execution_count": 22,
   "metadata": {
    "collapsed": false
   },
   "outputs": [
    {
     "data": {
      "text/plain": [
       "[<matplotlib.lines.Line2D at 0x1057b07f0>]"
      ]
     },
     "execution_count": 22,
     "metadata": {},
     "output_type": "execute_result"
    },
    {
     "data": {
      "image/png": "[encoded data removed]",
      "text/plain": [
       "<matplotlib.figure.Figure at 0x111d77160>"
      ]
     },
     "metadata": {},
     "output_type": "display_data"
    }
   ],
   "source": [
    "# Plot percentile of features VS. cross-validation scores\n",
    "import pylab as pl\n",
    "pl.figure()\n",
    "pl.xlabel(\"Percentage of features selected\")\n",
    "pl.ylabel(\"Cross validation accuracy\")\n",
    "pl.plot(percentiles,results)"
   ]
  },
  {
   "cell_type": "markdown",
   "metadata": {},
   "source": [
    "#### D) Perform Ridge Regression and Lasso Regression, however this time use the modules from  sklearn.linear_model. In each case, perform systematic model selection to identify the optimal alpha parameter"
   ]
  },
  {
   "cell_type": "code",
   "execution_count": 23,
   "metadata": {
    "collapsed": false
   },
   "outputs": [],
   "source": [
    "# First, create a 20%-80% randomized split of the data\n",
    "from sklearn.cross_validation import train_test_split\n",
    "X_train, X_test, y_train, y_test = train_test_split(X, y, test_size=0.2, random_state=33)"
   ]
  },
  {
   "cell_type": "code",
   "execution_count": 24,
   "metadata": {
    "collapsed": false
   },
   "outputs": [],
   "source": [
    "# Create a function that takes as input the data and target attribute; the parameter to vary and a list of its values; the model to be trained; and any other relevant input needed to determine the optimal value for the specified parameter.\n",
    "\n",
    "def regressionComparisons(X,y,alpha):\n",
    "    for method in[LinearRegression(),ElasticNet(fit_intercept=True, alpha=alpha),\n",
    "                 Lasso(fit_intercept=True, alpha=alpha),Ridge(fit_intercept=True, alpha=alpha)]:\n",
    "        #compute rmse on training\n",
    "        method.fit(X,y)\n",
    "        yHats=method.predict(X)\n",
    "        error=yHats-y\n",
    "        total_error=np.dot(error,error)\n",
    "        rmse_train=np.sqrt(total_error/len(yHats))\n",
    "        \n",
    "        #compute rmse on kfold \n",
    "        kf=KFold(len(X), n_folds=5)\n",
    "        err=0\n",
    "        \n",
    "        for train, test in kf:\n",
    "            method.fit(X[train],y[train])\n",
    "            yHats=method.predict(X[test])\n",
    "            error=yHats-y[test]\n",
    "            err+=np.dot(error,error)\n",
    "            rmse_5cv = np.sqrt(err/len(X))\n",
    "        print('Method: ', method)\n",
    "        print('RMSE on training: ', rmse_train)\n",
    "        print('RMSE on 5-fold CV: ', rmse_5cv)\n",
    "\n"
   ]
  },
  {
   "cell_type": "code",
   "execution_count": 25,
   "metadata": {
    "collapsed": false
   },
   "outputs": [
    {
     "name": "stdout",
     "output_type": "stream",
     "text": [
      "Method:  LinearRegression(copy_X=True, fit_intercept=True, n_jobs=1, normalize=False)\n",
      "RMSE on training:  0.12752697698\n",
      "RMSE on 5-fold CV:  0.137106388298\n",
      "Method:  ElasticNet(alpha=0.1, copy_X=True, fit_intercept=True, l1_ratio=0.5,\n",
      "      max_iter=1000, normalize=False, positive=False, precompute=False,\n",
      "      random_state=None, selection='cyclic', tol=0.0001, warm_start=False)\n",
      "RMSE on training:  0.229696952752\n",
      "RMSE on 5-fold CV:  0.230081413263\n",
      "Method:  Lasso(alpha=0.1, copy_X=True, fit_intercept=True, max_iter=1000,\n",
      "   normalize=False, positive=False, precompute=False, random_state=None,\n",
      "   selection='cyclic', tol=0.0001, warm_start=False)\n",
      "RMSE on training:  0.229696952752\n",
      "RMSE on 5-fold CV:  0.230081413263\n",
      "Method:  Ridge(alpha=0.1, copy_X=True, fit_intercept=True, max_iter=None,\n",
      "   normalize=False, random_state=None, solver='auto', tol=0.001)\n",
      "RMSE on training:  0.127708733168\n",
      "RMSE on 5-fold CV:  0.136263525903\n"
     ]
    }
   ],
   "source": [
    "x_var = np.array(X_train)\n",
    "#x_var = np.array([np.concatenate((v,[1])) for v in x_var])\n",
    "regressionComparisons(X_train,y_train,0.1)"
   ]
  },
  {
   "cell_type": "code",
   "execution_count": 26,
   "metadata": {
    "collapsed": false
   },
   "outputs": [
    {
     "name": "stdout",
     "output_type": "stream",
     "text": [
      "Method:  LinearRegression(copy_X=True, fit_intercept=True, n_jobs=1, normalize=False)\n",
      "RMSE on training:  0.12752697698\n",
      "RMSE on 5-fold CV:  0.137106388298\n",
      "Method:  ElasticNet(alpha=0.2, copy_X=True, fit_intercept=True, l1_ratio=0.5,\n",
      "      max_iter=1000, normalize=False, positive=False, precompute=False,\n",
      "      random_state=None, selection='cyclic', tol=0.0001, warm_start=False)\n",
      "RMSE on training:  0.229696952752\n",
      "RMSE on 5-fold CV:  0.230081413263\n",
      "Method:  Lasso(alpha=0.2, copy_X=True, fit_intercept=True, max_iter=1000,\n",
      "   normalize=False, positive=False, precompute=False, random_state=None,\n",
      "   selection='cyclic', tol=0.0001, warm_start=False)\n",
      "RMSE on training:  0.229696952752\n",
      "RMSE on 5-fold CV:  0.230081413263\n",
      "Method:  Ridge(alpha=0.2, copy_X=True, fit_intercept=True, max_iter=None,\n",
      "   normalize=False, random_state=None, solver='auto', tol=0.001)\n",
      "RMSE on training:  0.127878746569\n",
      "RMSE on 5-fold CV:  0.136029988239\n"
     ]
    }
   ],
   "source": [
    "regressionComparisons(x_var,y_train,0.2)"
   ]
  },
  {
   "cell_type": "code",
   "execution_count": 27,
   "metadata": {
    "collapsed": false
   },
   "outputs": [
    {
     "name": "stdout",
     "output_type": "stream",
     "text": [
      "Method:  LinearRegression(copy_X=True, fit_intercept=True, n_jobs=1, normalize=False)\n",
      "RMSE on training:  0.12752697698\n",
      "RMSE on 5-fold CV:  0.137106388298\n",
      "Method:  ElasticNet(alpha=0.3, copy_X=True, fit_intercept=True, l1_ratio=0.5,\n",
      "      max_iter=1000, normalize=False, positive=False, precompute=False,\n",
      "      random_state=None, selection='cyclic', tol=0.0001, warm_start=False)\n",
      "RMSE on training:  0.229696952752\n",
      "RMSE on 5-fold CV:  0.230081413263\n",
      "Method:  Lasso(alpha=0.3, copy_X=True, fit_intercept=True, max_iter=1000,\n",
      "   normalize=False, positive=False, precompute=False, random_state=None,\n",
      "   selection='cyclic', tol=0.0001, warm_start=False)\n",
      "RMSE on training:  0.229696952752\n",
      "RMSE on 5-fold CV:  0.230081413263\n",
      "Method:  Ridge(alpha=0.3, copy_X=True, fit_intercept=True, max_iter=None,\n",
      "   normalize=False, random_state=None, solver='auto', tol=0.001)\n",
      "RMSE on training:  0.128026173104\n",
      "RMSE on 5-fold CV:  0.135905198575\n"
     ]
    }
   ],
   "source": [
    "regressionComparisons(x_var,y_train,0.3)"
   ]
  },
  {
   "cell_type": "code",
   "execution_count": 28,
   "metadata": {
    "collapsed": false,
    "scrolled": true
   },
   "outputs": [
    {
     "data": {
      "text/plain": [
       "<matplotlib.axes._subplots.AxesSubplot at 0x1057c37b8>"
      ]
     },
     "execution_count": 28,
     "metadata": {},
     "output_type": "execute_result"
    },
    {
     "data": {
      "image/png": "[encoded data removed]",
      "text/plain": [
       "<matplotlib.figure.Figure at 0x111ec90b8>"
      ]
     },
     "metadata": {},
     "output_type": "display_data"
    }
   ],
   "source": [
    "#Plot the error values on the training and cross-validation splits across the specified values of the alpha parameter. \n",
    "\n",
    "\n",
    "#put the values from above into a pandas df\n",
    "d = {'method' : pd.Series([\"linear\", \"ElasticNet\", \"Lasso\",\"Ridge\"], index=[\"linear\", \"ElasticNet\", \"Lasso\",\"Ridge\"]),\n",
    "     'rsmeTrain' : pd.Series([0.128691194406, 0.232984833141, 0.232984833141, 0.128937729639], index=[\"linear\", \"ElasticNet\", \"Lasso\",\"Ridge\"]),\n",
    "    'rsmeCV' : pd.Series([0.13752029088,  0.233130227241, 0.233130227241,  0.136481581966], index=[\"linear\", \"ElasticNet\", \"Lasso\",\"Ridge\"])}\n",
    "\n",
    "\n",
    "df = pd.DataFrame(d)\n",
    "df.plot(kind='bar',title=\"Errors with a=0.2\")\n"
   ]
  },
  {
   "cell_type": "code",
   "execution_count": 29,
   "metadata": {
    "collapsed": false
   },
   "outputs": [
    {
     "name": "stdout",
     "output_type": "stream",
     "text": [
      "Method:  LinearRegression(copy_X=True, fit_intercept=True, n_jobs=1, normalize=False)\n",
      "RMSE on training:  0.114241919826\n",
      "RMSE on 5-fold CV:  0.169967875244\n",
      "Method:  ElasticNet(alpha=0.3, copy_X=True, fit_intercept=True, l1_ratio=0.5,\n",
      "      max_iter=1000, normalize=False, positive=False, precompute=False,\n",
      "      random_state=None, selection='cyclic', tol=0.0001, warm_start=False)\n",
      "RMSE on training:  0.245679000155\n",
      "RMSE on 5-fold CV:  0.246208929896\n",
      "Method:  Lasso(alpha=0.3, copy_X=True, fit_intercept=True, max_iter=1000,\n",
      "   normalize=False, positive=False, precompute=False, random_state=None,\n",
      "   selection='cyclic', tol=0.0001, warm_start=False)\n",
      "RMSE on training:  0.245679000155\n",
      "RMSE on 5-fold CV:  0.246208929896\n",
      "Method:  Ridge(alpha=0.3, copy_X=True, fit_intercept=True, max_iter=None,\n",
      "   normalize=False, random_state=None, solver='auto', tol=0.001)\n",
      "RMSE on training:  0.119628810744\n",
      "RMSE on 5-fold CV:  0.150931364762\n"
     ]
    }
   ],
   "source": [
    "#Finally, using the best alpha value, run the model on the set-aside test data.\n",
    "\n",
    "regressionComparisons(X_test,y_test,0.3)"
   ]
  },
  {
   "cell_type": "code",
   "execution_count": 30,
   "metadata": {
    "collapsed": true
   },
   "outputs": [],
   "source": [
    "#Discuss Results"
   ]
  },
  {
   "cell_type": "markdown",
   "metadata": {},
   "source": [
    "##### From our earlier results, we found that with our training data, teh ridge regression with a=0.3 produced the best rmse. On the test data, the rmse with  ridge regression is 0.11962, which is even better than it was with out training data."
   ]
  },
  {
   "cell_type": "markdown",
   "metadata": {},
   "source": [
    "#### E) Next, perform regression using Stochastic Gradient Descent for regression. For this part, you should use the  SGDRegessor module from sklearn.linear_model."
   ]
  },
  {
   "cell_type": "code",
   "execution_count": 31,
   "metadata": {
    "collapsed": false
   },
   "outputs": [],
   "source": [
    "from sklearn.linear_model import SGDRegressor\n",
    "from sklearn.preprocessing import StandardScaler\n",
    "\n",
    "#Standardise as prep for this model\n",
    "scaler=StandardScaler()\n",
    "scaler.fit(x_var)\n",
    "x_s=scaler.transform(x_var)\n",
    "\n",
    "\n",
    "sgdModel=SGDRegressor(penalty='l2', alpha=0.15, n_iter=200)\n"
   ]
  },
  {
   "cell_type": "code",
   "execution_count": 32,
   "metadata": {
    "collapsed": false
   },
   "outputs": [
    {
     "name": "stdout",
     "output_type": "stream",
     "text": [
      "Stochastic Gradient Descent Regression\n",
      "RMSE on training:  0.145627646169\n",
      "RMSE on 10-fold CV:  0.23908189805\n"
     ]
    }
   ],
   "source": [
    "\n",
    "#As in d, calculate the RMSE with the training and testing data\n",
    "\n",
    "sgdModel.fit(x_var,y_train)\n",
    "yHats=sgdModel.predict(x_var)\n",
    "error=yHats-y_train\n",
    "total_error=np.dot(error,error)\n",
    "rmse_train=np.sqrt(total_error/len(yHats))\n",
    "\n",
    "# RMSE using 10-fold cross-validation\n",
    "\n",
    "kf=KFold(len(x_var), n_folds=10)\n",
    "xval_err = 0\n",
    "for train, test in kf:\n",
    "    scaler=StandardScaler()\n",
    "    scaler.fit(x_var[train])\n",
    "    xtrain_s = scaler.transform(x_var[train])\n",
    "    xtest_s = scaler.transform(x_var[test])\n",
    "    sgdModel.fit(xtrain_s, y[train])\n",
    "    yHats=sgdModel.predict(xtest_s)\n",
    "    error=yHats-y[test]\n",
    "    xval_err += np.dot(error,error)\n",
    "rmse_10cv=np.sqrt(xval_err/len(x_var))\n",
    "\n",
    "print(\"Stochastic Gradient Descent Regression\")\n",
    "print('RMSE on training: ', rmse_train)\n",
    "print('RMSE on 10-fold CV: ', rmse_10cv)"
   ]
  },
  {
   "cell_type": "code",
   "execution_count": 33,
   "metadata": {
    "collapsed": false
   },
   "outputs": [],
   "source": [
    "from sklearn.model_selection import GridSearchCV"
   ]
  },
  {
   "cell_type": "code",
   "execution_count": 34,
   "metadata": {
    "collapsed": false
   },
   "outputs": [
    {
     "name": "stdout",
     "output_type": "stream",
     "text": [
      "Chosen parameter on 100 datapoints: {'alpha': 0.001, 'penalty': 'l2'}\n"
     ]
    }
   ],
   "source": [
    "#Use Grid Search to find the best params\n",
    "\n",
    "est = GridSearchCV(SGDRegressor(),\n",
    "                   param_grid={\"penalty\":['l2', 'l1'],\n",
    "                               \"alpha\":[0.15,0.05,0.01,0.001,0.0001]})\n",
    "                                     \n",
    "print(\"Chosen parameter on 100 datapoints: %s\" % est.fit(X, y).best_params_  )                                   \n"
   ]
  },
  {
   "cell_type": "code",
   "execution_count": 35,
   "metadata": {
    "collapsed": false
   },
   "outputs": [
    {
     "data": {
      "text/plain": [
       "SGDRegressor(alpha=0.0001, average=False, epsilon=0.1, eta0=0.01,\n",
       "       fit_intercept=True, l1_ratio=0.15, learning_rate='invscaling',\n",
       "       loss='squared_loss', n_iter=200, penalty='l2', power_t=0.25,\n",
       "       random_state=None, shuffle=True, verbose=0, warm_start=False)"
      ]
     },
     "execution_count": 35,
     "metadata": {},
     "output_type": "execute_result"
    }
   ],
   "source": [
    "#Using the best parameters, apply the model to the set-aside test data.\n",
    "\n",
    "sgdBest=SGDRegressor(penalty='l2',alpha=0.0001,n_iter=200)\n",
    "sgdBest.fit(X[test],y[test])\n"
   ]
  },
  {
   "cell_type": "code",
   "execution_count": 36,
   "metadata": {
    "collapsed": false
   },
   "outputs": [
    {
     "name": "stdout",
     "output_type": "stream",
     "text": [
      "1 0.536018962249\n",
      "6 0.587507025319\n",
      "11 0.599730240175\n",
      "16 0.605215101544\n",
      "21 0.615281613675\n",
      "26 0.62492303881\n",
      "31 0.630045868736\n",
      "36 0.63130640991\n",
      "41 0.632762226132\n",
      "46 0.632035608926\n",
      "51 0.631948465603\n",
      "56 0.633237610914\n",
      "61 0.631402415532\n",
      "66 0.63040115797\n",
      "71 0.631356761757\n",
      "76 0.633607859389\n",
      "81 0.633755543907\n",
      "86 0.637581158642\n",
      "91 0.634949467806\n",
      "96 0.640692590644\n",
      "Optimal percentile of features:96 \n",
      "\n",
      "Optimal number of features:93 \n",
      "\n"
     ]
    },
    {
     "name": "stderr",
     "output_type": "stream",
     "text": [
      "/Applications/anaconda/lib/python3.6/site-packages/ipykernel/__main__.py:16: VisibleDeprecationWarning: converting an array with ndim > 0 to an index will result in an error in the future\n",
      "/Applications/anaconda/lib/python3.6/site-packages/ipykernel/__main__.py:17: VisibleDeprecationWarning: converting an array with ndim > 0 to an index will result in an error in the future\n"
     ]
    }
   ],
   "source": [
    "#Finally, perform model selection (similar to part d, above) to find the best \"l1_ratio\" \n",
    "\n",
    "percentiles = range(1, 100, 5)\n",
    "results = []\n",
    "for i in range(1, 100, 5):\n",
    "    fSelector = SelectPercentile(f_regression, percentile=i)\n",
    "    fSelector.fit(X, y)\n",
    "    X_train_fs = fSelector.fit_transform(X_train, y_train)\n",
    "    #fs = feature_selection.SelectPercentile(feature_selection.chi2, percentile=i)\n",
    "    #X_train_fs = fs.fit_transform(X_train, y_train)\n",
    "    scores = cross_validation.cross_val_score(sgdBest, X_train_fs, y_train, cv=5)\n",
    "    print(i,scores.mean())\n",
    "    results = np.append(results, scores.mean())\n",
    "\n",
    "optimal_percentil = np.where(results == results.max())[0]\n",
    "print(\"Optimal percentile of features:{0}\".format(percentiles[optimal_percentil]), \"\\n\")\n",
    "optimal_num_features = int(math.floor(percentiles[optimal_percentil]*X.shape[1]/100))\n",
    "print(\"Optimal number of features:{0}\".format(optimal_num_features), \"\\n\")\n",
    "\n",
    "\n"
   ]
  },
  {
   "cell_type": "markdown",
   "metadata": {},
   "source": [
    "### Question 2: Automatic Document Clustering with Newsgroups5\n",
    "\n",
    "#### Your goal in this assignment is to perform clustering on the documents and compare the clusters to the actual categories. Your tasks in this problem are the following [Note: for the clustering part of this assignment you should use the kMeans module form Ch. 10 of MLA]\n",
    "\n",
    "#### A) Create your own distance function that, instead of using Euclidean distance, uses Cosine similarity. This is the distance function you will use to pass to the kMeans function.\n"
   ]
  },
  {
   "cell_type": "code",
   "execution_count": 37,
   "metadata": {
    "collapsed": true
   },
   "outputs": [],
   "source": [
    "# Create your own distance function that, instead of using Euclidean distance, uses Cosine similarity. This is the distance function you will use to pass to the kMeans function.\n",
    "\n",
    "def cosineDist(vecA, vecB):\n",
    "    #D_norm = array([linalg.norm(data[i]) for i in range(len(data))])\n",
    "    #x_norm = linalg.norm(inX)\n",
    "    #cosines = dot(data,inX)/(D_norm * x_norm)\n",
    "    #distances = 1 - cosines\n",
    "    \n",
    "    norm_A = linalg.norm(vecA)\n",
    "    norm_B = linalg.norm(vecB)\n",
    "    cosine = dot(vecA, vecB) / norm_A * norm_B\n",
    "    distance = 1 - cosine\n",
    "    return distance"
   ]
  },
  {
   "cell_type": "code",
   "execution_count": 38,
   "metadata": {
    "collapsed": true
   },
   "outputs": [],
   "source": [
    "#load in the other fuctions we will need for the rest of this project\n",
    "from numpy import *\n",
    "\n",
    "def distEclud(vecA, vecB):\n",
    "    return sqrt(sum(power(vecA - vecB, 2))) #la.norm(vecA-vecB)\n",
    "\n",
    "def randCent(dataSet, k):\n",
    "    n = shape(dataSet)[1]\n",
    "    centroids = zeros((k,n), dtype=float)\n",
    "    for j in range(n): #create random cluster centers\n",
    "        minJ = min(dataSet[:,j])\n",
    "        rangeJ = float(max(dataSet[:,j]) - minJ)\n",
    "        centroids[:,j] = minJ + rangeJ * random.rand(k)\n",
    "    return centroids \n"
   ]
  },
  {
   "cell_type": "code",
   "execution_count": 39,
   "metadata": {
    "collapsed": false
   },
   "outputs": [],
   "source": [
    "def kMeans(dataSet, k, distMeas=distEclud, createCent=randCent):\n",
    "    m = shape(dataSet)[0]\n",
    "    clusterAssment = zeros((m,2))#create mat to assign data points \n",
    "                                      #to a centroid, also holds SE of each point\n",
    "    centroids = createCent(dataSet, k)\n",
    "    clusterChanged = True\n",
    "    while clusterChanged:\n",
    "        clusterChanged = False\n",
    "        for i in range(m):#for each data point assign it to the closest centroid\n",
    "            minDist = inf; minIndex = -1\n",
    "            for j in range(k):\n",
    "                distJI = distMeas(centroids[j,:],dataSet[i,:])\n",
    "                if distJI < minDist:\n",
    "                    minDist = distJI; minIndex = j\n",
    "            if clusterAssment[i,0] != minIndex: clusterChanged = True\n",
    "            clusterAssment[i,:] = minIndex,minDist**2\n",
    "        # print centroids\n",
    "        for cent in range(k):#recalculate centroids\n",
    "            ptsInClust = dataSet[nonzero(clusterAssment[:,0]==cent)[0]] #get all the point in this cluster - Note: this was incorrect in the original distribution.\n",
    "            if(len(ptsInClust)!=0):\n",
    "                centroids[cent,:] = mean(ptsInClust, axis=0) #assign centroid to mean - Note condition was added 10/28/2013\n",
    "    return centroids, clusterAssment"
   ]
  },
  {
   "cell_type": "code",
   "execution_count": 40,
   "metadata": {
    "collapsed": false
   },
   "outputs": [],
   "source": [
    "def biKmeans(dataSet, k, distMeas=distEclud):\n",
    "    m = shape(dataSet)[0]\n",
    "    clusterAssment = mat(zeros((m,2)))\n",
    "    centroid0 = mean(dataSet, axis=0).tolist()[0]\n",
    "    centList =[centroid0] #create a list with one centroid\n",
    "    for j in range(m): #calc initial Error\n",
    "        clusterAssment[j,1] = distMeas(mat(centroid0), dataSet[j,:])**2\n",
    "    while (len(centList) < k):\n",
    "        lowestSSE = inf\n",
    "        for i in range(len(centList)):\n",
    "            ptsInCurrCluster = dataSet[nonzero(clusterAssment[:,0].A==i)[0],:] #get the data points currently in cluster i\n",
    "            centroidMat, splitClustAss = kMeans(ptsInCurrCluster, 2, distMeas)\n",
    "            sseSplit = sum(splitClustAss[:,1])#compare the SSE to the currrent minimum\n",
    "            sseNotSplit = sum(clusterAssment[nonzero(clusterAssment[:,0].A!=i)[0],1])\n",
    "            print(\"sseSplit, and notSplit: \",sseSplit,sseNotSplit)\n",
    "            if (sseSplit + sseNotSplit) < lowestSSE:\n",
    "                bestCentToSplit = i\n",
    "                bestNewCents = centroidMat\n",
    "                bestClustAss = splitClustAss.copy()\n",
    "                lowestSSE = sseSplit + sseNotSplit\n",
    "        bestClustAss[nonzero(bestClustAss[:,0] == 1)[0],0] = len(centList) #change 1 to 3,4, or whatever\n",
    "        bestClustAss[nonzero(bestClustAss[:,0] == 0)[0],0] = bestCentToSplit\n",
    "        print('the bestCentToSplit is: ',bestCentToSplit)\n",
    "        print('the len of bestClustAss is: ', len(bestClustAss))\n",
    "        centList[bestCentToSplit] = bestNewCents[0,:].tolist()[0]#replace a centroid with two best centroids \n",
    "        centList.append(bestNewCents[1,:].tolist()[0])\n",
    "        clusterAssment[nonzero(clusterAssment[:,0].A == bestCentToSplit)[0],:]= bestClustAss#reassign new clusters, and SSE\n",
    "    return mat(centList), clusterAssment\n",
    "\n"
   ]
  },
  {
   "cell_type": "markdown",
   "metadata": {},
   "source": [
    "#### B) Load the data set. Then, split the data set (the document x term matrix) and set aside 20% for later use (see below). Use the 80% segment for clustering in the next part. The 20% portion must be a random subset."
   ]
  },
  {
   "cell_type": "code",
   "execution_count": 41,
   "metadata": {
    "collapsed": false
   },
   "outputs": [
    {
     "data": {
      "text/plain": [
       "(9328, 2500)"
      ]
     },
     "execution_count": 41,
     "metadata": {},
     "output_type": "execute_result"
    }
   ],
   "source": [
    "data = np.genfromtxt(r\"/Users/sarahcummings/Documents/csc478/assignment3/newsgroups5/matrix.txt\",delimiter=\",\",dtype=int)\n",
    "#data = np.genfromtxt(r\"C:\\Users\\scummings\\Desktop\\MyFiles\\school\\csc478_3\\newsgroups5\\matrix.txt\",delimiter=\",\",dtype=int)\n",
    "data.shape\n"
   ]
  },
  {
   "cell_type": "code",
   "execution_count": 43,
   "metadata": {
    "collapsed": false
   },
   "outputs": [
    {
     "name": "stdout",
     "output_type": "stream",
     "text": [
      "['aa' 'aargh' 'aaron' ..., 'zw' 'zx' 'zz']\n"
     ]
    }
   ],
   "source": [
    "terms=np.genfromtxt(r\"/Users/sarahcummings/Documents/csc478/assignment3/newsgroups5/terms.txt\",delimiter=\",\",dtype=str)\n",
    "#terms = np.genfromtxt(r\"C:\\Users\\scummings\\Desktop\\MyFiles\\school\\csc478_3\\newsgroups5\\terms.txt\",delimiter=\",\",dtype=str)\n",
    "\n",
    "terms.shape\n",
    "print(terms)"
   ]
  },
  {
   "cell_type": "code",
   "execution_count": 44,
   "metadata": {
    "collapsed": true
   },
   "outputs": [],
   "source": [
    "dataT=data.T"
   ]
  },
  {
   "cell_type": "markdown",
   "metadata": {},
   "source": [
    "#### C) As in the case of Assignment 2, transform the term-frequencies to tfxidf values. Be sure to maintain DF values for each of the terms in the dictionary. ["
   ]
  },
  {
   "cell_type": "code",
   "execution_count": 45,
   "metadata": {
    "collapsed": false
   },
   "outputs": [
    {
     "name": "stdout",
     "output_type": "stream",
     "text": [
      "[[ 2500.  2500.  2500. ...,  2500.  2500.  2500.]\n",
      " [ 2500.  2500.  2500. ...,  2500.  2500.  2500.]\n",
      " [ 2500.  2500.  2500. ...,  2500.  2500.  2500.]\n",
      " ..., \n",
      " [ 2500.  2500.  2500. ...,  2500.  2500.  2500.]\n",
      " [ 2500.  2500.  2500. ...,  2500.  2500.  2500.]\n",
      " [ 2500.  2500.  2500. ...,  2500.  2500.  2500.]]\n"
     ]
    }
   ],
   "source": [
    "# concatenate the df\n",
    "#concatData = np.concatenate((d_train, d_test), axis=1)\n",
    "concatData=dataT\n",
    "\n",
    "# Find document frequencies \n",
    "DF = np.array((concatData!=0).sum(0))\n",
    "\n",
    "\n",
    "NTerms=len(concatData [0,:])\n",
    "NDocs = len(concatData [:,0])\n",
    "# Create a matrix with all entries =NDocs\n",
    "NMatrix = np.ones(np.shape(concatData ), dtype=float)*NDocs\n",
    "print(NMatrix)"
   ]
  },
  {
   "cell_type": "code",
   "execution_count": 46,
   "metadata": {
    "collapsed": false
   },
   "outputs": [],
   "source": [
    "# Convert each entry into IDF values\n",
    "\n",
    "#IDF = log2(divide(NMatrix, DF))\n",
    "IDF = np.log2(np.divide(NMatrix, DF))\n",
    "\n",
    "# Compute the TF x iDF values for each document term\n",
    "TD_tfidf = concatData  * IDF"
   ]
  },
  {
   "cell_type": "code",
   "execution_count": 47,
   "metadata": {
    "collapsed": false
   },
   "outputs": [],
   "source": [
    "# Transpose the data\n",
    "#DT_tfidf = TD_tfidf.T\n",
    "#trainNum = 0.8 * len(DT_tfidf)\n",
    "#trainDT_tfidf = DT_tfidf[:trainNum,:]\n",
    "#testDT_tfidf = DT_tfidf[trainNum:,:]"
   ]
  },
  {
   "cell_type": "code",
   "execution_count": 49,
   "metadata": {
    "collapsed": false
   },
   "outputs": [
    {
     "data": {
      "text/plain": [
       "(2500,)"
      ]
     },
     "execution_count": 49,
     "metadata": {},
     "output_type": "execute_result"
    }
   ],
   "source": [
    "#read in the current categories\n",
    "labels=np.genfromtxt(r\"/Users/sarahcummings/Documents/csc478/assignment3/newsgroups5/classes.txt\",skip_header=1, usecols=(1),dtype=str)\n",
    "#labels = np.genfromtxt(r\"C:\\Users\\scummings\\Desktop\\MyFiles\\school\\csc478_3\\newsgroups5\\classes.txt\",skip_header=1, usecols=(1),dtype=str)\n",
    "labels.shape"
   ]
  },
  {
   "cell_type": "code",
   "execution_count": 50,
   "metadata": {
    "collapsed": false
   },
   "outputs": [],
   "source": [
    "\n",
    "#trainNum\n",
    "#termsTrain=terms[1:7463]\n",
    "#termsTrain.shape"
   ]
  },
  {
   "cell_type": "code",
   "execution_count": 51,
   "metadata": {
    "collapsed": true
   },
   "outputs": [],
   "source": [
    "#Be sure to maintain the correspondence between the dictionary terms and the matrix rows\n",
    "terms_dict = dict(zip(terms, np.array((dataT!=0).sum(0))))\n"
   ]
  },
  {
   "cell_type": "code",
   "execution_count": 52,
   "metadata": {
    "collapsed": false
   },
   "outputs": [
    {
     "name": "stdout",
     "output_type": "stream",
     "text": [
      "(2000, 9328) (500, 9328) (2000,) (500,)\n"
     ]
    }
   ],
   "source": [
    "train, test, train_label, test_label = train_test_split(TD_tfidf,labels,test_size=0.20,random_state=45)\n",
    "print(train.shape,test.shape,train_label.shape,test_label.shape)"
   ]
  },
  {
   "cell_type": "markdown",
   "metadata": {},
   "source": [
    "#### D) Perform Kmeans clustering on the training data. Write a function to display the top N terms in each cluster along with the cluster DF values for each term and the size of the cluster. Cluster DF value for a term t in a cluster C is the percentage of docs in cluster C in which term t appears. Sort the terms in decreasing order of the DF percentage."
   ]
  },
  {
   "cell_type": "code",
   "execution_count": 53,
   "metadata": {
    "collapsed": false
   },
   "outputs": [
    {
     "data": {
      "text/plain": [
       "array([[0, 0, 0, ..., 0, 0, 0],\n",
       "       [0, 0, 0, ..., 0, 0, 0],\n",
       "       [0, 0, 0, ..., 0, 0, 0],\n",
       "       ..., \n",
       "       [0, 0, 0, ..., 0, 0, 0],\n",
       "       [0, 0, 0, ..., 0, 0, 0],\n",
       "       [0, 0, 0, ..., 0, 0, 0]])"
      ]
     },
     "execution_count": 53,
     "metadata": {},
     "output_type": "execute_result"
    }
   ],
   "source": [
    "data"
   ]
  },
  {
   "cell_type": "code",
   "execution_count": 89,
   "metadata": {
    "collapsed": false
   },
   "outputs": [],
   "source": [
    "centroids,clusters= kMeans(train, 5, cosineDist,randCent)"
   ]
  },
  {
   "cell_type": "code",
   "execution_count": 55,
   "metadata": {
    "collapsed": false
   },
   "outputs": [
    {
     "data": {
      "text/plain": [
       "array([[  3.00000000e+00,   7.62835057e+05],\n",
       "       [  4.00000000e+00,   1.19055217e+06],\n",
       "       [  2.00000000e+00,   6.06268818e+05],\n",
       "       ..., \n",
       "       [  4.00000000e+00,   1.78306222e+05],\n",
       "       [  2.00000000e+00,   1.81719400e+04],\n",
       "       [  4.00000000e+00,   9.47263899e+04]])"
      ]
     },
     "execution_count": 55,
     "metadata": {},
     "output_type": "execute_result"
    }
   ],
   "source": [
    "clusters\n"
   ]
  },
  {
   "cell_type": "code",
   "execution_count": 56,
   "metadata": {
    "collapsed": false
   },
   "outputs": [
    {
     "data": {
      "text/plain": [
       "(2000, 2)"
      ]
     },
     "execution_count": 56,
     "metadata": {},
     "output_type": "execute_result"
    }
   ],
   "source": [
    "clusters.shape"
   ]
  },
  {
   "cell_type": "code",
   "execution_count": 57,
   "metadata": {
    "collapsed": false
   },
   "outputs": [
    {
     "data": {
      "text/plain": [
       "(5, 9328)"
      ]
     },
     "execution_count": 57,
     "metadata": {},
     "output_type": "execute_result"
    }
   ],
   "source": [
    "centroids.shape"
   ]
  },
  {
   "cell_type": "code",
   "execution_count": 58,
   "metadata": {
    "collapsed": false
   },
   "outputs": [],
   "source": [
    "np.savetxt(\"centroids.csv\", centroids, delimiter=\",\")"
   ]
  },
  {
   "cell_type": "code",
   "execution_count": 59,
   "metadata": {
    "collapsed": true
   },
   "outputs": [],
   "source": [
    "np.savetxt(\"clusters.csv\", clusters, delimiter=\",\")"
   ]
  },
  {
   "cell_type": "code",
   "execution_count": 60,
   "metadata": {
    "collapsed": false
   },
   "outputs": [
    {
     "data": {
      "text/html": [
       "<div>\n",
       "<table border=\"1\" class=\"dataframe\">\n",
       "  <thead>\n",
       "    <tr style=\"text-align: right;\">\n",
       "      <th></th>\n",
       "      <th>cluster</th>\n",
       "      <th>x</th>\n",
       "    </tr>\n",
       "  </thead>\n",
       "  <tbody>\n",
       "    <tr>\n",
       "      <th>0</th>\n",
       "      <td>2.0</td>\n",
       "      <td>2.010397e+05</td>\n",
       "    </tr>\n",
       "    <tr>\n",
       "      <th>1</th>\n",
       "      <td>1.0</td>\n",
       "      <td>2.885017e+02</td>\n",
       "    </tr>\n",
       "    <tr>\n",
       "      <th>2</th>\n",
       "      <td>1.0</td>\n",
       "      <td>5.160568e+07</td>\n",
       "    </tr>\n",
       "    <tr>\n",
       "      <th>3</th>\n",
       "      <td>1.0</td>\n",
       "      <td>7.510669e+03</td>\n",
       "    </tr>\n",
       "    <tr>\n",
       "      <th>4</th>\n",
       "      <td>2.0</td>\n",
       "      <td>2.589476e+06</td>\n",
       "    </tr>\n",
       "  </tbody>\n",
       "</table>\n",
       "</div>"
      ],
      "text/plain": [
       "   cluster             x\n",
       "0      2.0  2.010397e+05\n",
       "1      1.0  2.885017e+02\n",
       "2      1.0  5.160568e+07\n",
       "3      1.0  7.510669e+03\n",
       "4      2.0  2.589476e+06"
      ]
     },
     "execution_count": 60,
     "metadata": {},
     "output_type": "execute_result"
    }
   ],
   "source": [
    "\n",
    "clusters_df = pd.read_csv(r\"/Users/sarahcummings/Documents/csc478/assignment3/newsgroups5/clusters.csv\",encoding = \"ISO-8859-1\", low_memory=False, names=[\"cluster\",\"x\"])\n",
    "\n",
    "#clusters_df = pd.read_csv(r\"C:\\Users\\scummings\\Desktop\\MyFiles\\school\\csc478_3\\clusters.csv\",encoding = \"ISO-8859-1\", low_memory=False, names=[\"cluster\",\"x\"])\n",
    "clusters_df.head()\n",
    "\n",
    "\n"
   ]
  },
  {
   "cell_type": "code",
   "execution_count": 61,
   "metadata": {
    "collapsed": false
   },
   "outputs": [
    {
     "name": "stderr",
     "output_type": "stream",
     "text": [
      "/Applications/anaconda/lib/python3.6/site-packages/ipykernel/__main__.py:2: FutureWarning: sort is deprecated, use sort_values(inplace=True) for INPLACE sorting\n",
      "  from ipykernel import kernelapp as app\n"
     ]
    },
    {
     "data": {
      "text/plain": [
       "0.0      81\n",
       "4.0     114\n",
       "2.0     693\n",
       "3.0    2665\n",
       "1.0    3909\n",
       "Name: cluster, dtype: int64"
      ]
     },
     "execution_count": 61,
     "metadata": {},
     "output_type": "execute_result"
    }
   ],
   "source": [
    "counts=clusters_df['cluster'].value_counts()\n",
    "counts.sort('cluster')\n",
    "counts"
   ]
  },
  {
   "cell_type": "code",
   "execution_count": 62,
   "metadata": {
    "collapsed": false
   },
   "outputs": [
    {
     "data": {
      "text/plain": [
       "81"
      ]
     },
     "execution_count": 62,
     "metadata": {},
     "output_type": "execute_result"
    }
   ],
   "source": [
    "#counts2 = np.array([[0,81]],[[1,3909]],[[2,693]],[[3,2665]],[[4,114]])\n",
    "#x = np.array([2, 3, 1, 0])\n",
    "#counts = np.array([[ 0,counts[0]], [1,counts[1]], [ 2,627],[3,2688],[4,114]])\n",
    "counts[0]\n"
   ]
  },
  {
   "cell_type": "code",
   "execution_count": 102,
   "metadata": {
    "collapsed": false
   },
   "outputs": [
    {
     "name": "stdout",
     "output_type": "stream",
     "text": [
      "\n",
      "Cluster: 0\n",
      "\tTerms\t\tDF\t\tCluster\n",
      "             ax\t\t15.00\t\t46258.070\n",
      "            max\t\t19.00\t\t3178.463\n",
      "             pl\t\t20.00\t\t279.792\n",
      "            giz\t\t8.00\t\t147.798\n",
      "             qq\t\t10.00\t\t67.709\n",
      "\n",
      "Cluster: 1\n",
      "\tTerms\t\tDF\t\tCluster\n",
      "         window\t\t381.00\t\t2.997\n",
      "           file\t\t257.00\t\t2.262\n",
      "           sale\t\t326.00\t\t1.460\n",
      "         driver\t\t120.00\t\t1.400\n",
      "          drive\t\t150.00\t\t1.312\n",
      "\n",
      "Cluster: 2\n",
      "\tTerms\t\tDF\t\tCluster\n",
      "             ax\t\t15.00\t\t31484.125\n",
      "            max\t\t19.00\t\t2149.481\n",
      "             pl\t\t20.00\t\t415.625\n",
      "            bxn\t\t8.00\t\t364.659\n",
      "            giz\t\t8.00\t\t323.221\n",
      "\n",
      "Cluster: 3\n",
      "\tTerms\t\tDF\t\tCluster\n",
      "            god\t\t312.00\t\t2.593\n",
      "            kei\t\t297.00\t\t1.996\n",
      "           game\t\t338.00\t\t1.739\n",
      "      christian\t\t251.00\t\t1.640\n",
      "          peopl\t\t522.00\t\t1.475\n",
      "\n",
      "Cluster: 4\n",
      "\tTerms\t\tDF\t\tCluster\n",
      "             cx\t\t9.00\t\t294.044\n",
      "             uw\t\t12.00\t\t168.605\n",
      "             te\t\t6.00\t\t83.160\n",
      "             sq\t\t9.00\t\t78.472\n",
      "             ww\t\t6.00\t\t77.358\n"
     ]
    }
   ],
   "source": [
    "n=5\n",
    "for i in range(len(centroids)):\n",
    "        print(\"\\nCluster:\",i)\n",
    "        centroids2=centroids[i,:]\n",
    "        temp = np.ravel(centroids[i,:])\n",
    "        ind = np.argpartition(temp, -n)[-n:]\n",
    "        ind = ind[np.argsort(-temp[ind])]\n",
    "        print(\"\\tTerms\\t\\tDF\\t\\tCluster\")\n",
    "        for index in ind:\n",
    "            print(\"%15s\\t\\t%.2f\\t\\t%.3f\" %(terms[index],terms_dict[terms[index]],temp[index]))"
   ]
  },
  {
   "cell_type": "code",
   "execution_count": 100,
   "metadata": {
    "collapsed": true
   },
   "outputs": [],
   "source": [
    "#save it as a function\n",
    "def clustersOutput(centroids,n,terms,terms_dict,counts):\n",
    "    for i in range(len(centroids)):\n",
    "        print(\"\\nCLUSTER:\",i,\"results\")\n",
    "        print(\"Number of documents in cluster:\",counts[i])\n",
    "        centroids2=centroids[i,:]\n",
    "        temp = np.ravel(centroids[i,:])\n",
    "        ind = np.argpartition(temp, -n)[-n:]\n",
    "        ind = ind[np.argsort(-temp[ind])]\n",
    "        print(\"\\tTerms\\t\\tDF\\t\\tSize\")\n",
    "        for index in ind:\n",
    "            print(\"%15s\\t\\t%.2f\\t\\t%.3f\" %(terms[index],terms_dict[terms[index]],temp[index]))"
   ]
  },
  {
   "cell_type": "code",
   "execution_count": 101,
   "metadata": {
    "collapsed": false
   },
   "outputs": [
    {
     "name": "stdout",
     "output_type": "stream",
     "text": [
      "\n",
      "CLUSTER: 0 results\n",
      "Number of documents in cluster: 81\n",
      "\tTerms\t\tDF\t\tSize\n",
      "             ax\t\t15.00\t\t46258.070\n",
      "            max\t\t19.00\t\t3178.463\n",
      "             pl\t\t20.00\t\t279.792\n",
      "            giz\t\t8.00\t\t147.798\n",
      "             qq\t\t10.00\t\t67.709\n",
      "\n",
      "CLUSTER: 1 results\n",
      "Number of documents in cluster: 3909\n",
      "\tTerms\t\tDF\t\tSize\n",
      "         window\t\t381.00\t\t2.997\n",
      "           file\t\t257.00\t\t2.262\n",
      "           sale\t\t326.00\t\t1.460\n",
      "         driver\t\t120.00\t\t1.400\n",
      "          drive\t\t150.00\t\t1.312\n",
      "\n",
      "CLUSTER: 2 results\n",
      "Number of documents in cluster: 693\n",
      "\tTerms\t\tDF\t\tSize\n",
      "             ax\t\t15.00\t\t31484.125\n",
      "            max\t\t19.00\t\t2149.481\n",
      "             pl\t\t20.00\t\t415.625\n",
      "            bxn\t\t8.00\t\t364.659\n",
      "            giz\t\t8.00\t\t323.221\n",
      "\n",
      "CLUSTER: 3 results\n",
      "Number of documents in cluster: 2665\n",
      "\tTerms\t\tDF\t\tSize\n",
      "            god\t\t312.00\t\t2.593\n",
      "            kei\t\t297.00\t\t1.996\n",
      "           game\t\t338.00\t\t1.739\n",
      "      christian\t\t251.00\t\t1.640\n",
      "          peopl\t\t522.00\t\t1.475\n",
      "\n",
      "CLUSTER: 4 results\n",
      "Number of documents in cluster: 114\n",
      "\tTerms\t\tDF\t\tSize\n",
      "             cx\t\t9.00\t\t294.044\n",
      "             uw\t\t12.00\t\t168.605\n",
      "             te\t\t6.00\t\t83.160\n",
      "             sq\t\t9.00\t\t78.472\n",
      "             ww\t\t6.00\t\t77.358\n"
     ]
    }
   ],
   "source": [
    "c=clustersOutput(centroids,n,terms,terms_dict,counts)"
   ]
  },
  {
   "cell_type": "markdown",
   "metadata": {},
   "source": [
    "#### E) Using the cluster assignments from Kmeans clustering, compare your 5 clusters to the 5 pre-assigned classes by computing the Completeness and Homogeneity values."
   ]
  },
  {
   "cell_type": "code",
   "execution_count": 105,
   "metadata": {
    "collapsed": false
   },
   "outputs": [
    {
     "name": "stdout",
     "output_type": "stream",
     "text": [
      "Completeness Score:  0.766973056913\n",
      "Homogeneity:  0.346899653235\n"
     ]
    }
   ],
   "source": [
    "from sklearn.metrics import completeness_score, homogeneity_score\n",
    "\n",
    "\n",
    "#labelsTrain=labels[1:7463]\n",
    "#labelsTrain.shape\n",
    "#train_label, test_label\n",
    "print(\"Completeness Score: \",completeness_score(train_label,ravel(clusters.T[0])))\n",
    "print(\"Homogeneity: \",homogeneity_score(train_label,ravel(clusters.T[0])))"
   ]
  },
  {
   "cell_type": "markdown",
   "metadata": {
    "collapsed": true
   },
   "source": [
    "#### F) Finally, using your cluster assignments as class labels, categorize each of the documents in the 20% set-aside data into each of the appropriate cluster. Y"
   ]
  },
  {
   "cell_type": "code",
   "execution_count": null,
   "metadata": {
    "collapsed": true
   },
   "outputs": [],
   "source": []
  }
 ],
 "metadata": {
  "kernelspec": {
   "display_name": "Python 3",
   "language": "python",
   "name": "python3"
  },
  "language_info": {
   "codemirror_mode": {
    "name": "ipython",
    "version": 3
   },
   "file_extension": ".py",
   "mimetype": "text/x-python",
   "name": "python",
   "nbconvert_exporter": "python",
   "pygments_lexer": "ipython3",
   "version": "3.6.0"
  }
 },
 "nbformat": 4,
 "nbformat_minor": 2
}
